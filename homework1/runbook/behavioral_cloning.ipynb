{
 "cells": [
  {
   "cell_type": "code",
   "execution_count": 53,
   "metadata": {},
   "outputs": [
    {
     "name": "stdout",
     "output_type": "stream",
     "text": [
      "The autoreload extension is already loaded. To reload it, use:\n",
      "  %reload_ext autoreload\n"
     ]
    }
   ],
   "source": [
    "# Some boilerplate setup\n",
    "\n",
    "import time\n",
    "import pickle\n",
    "import numpy as np\n",
    "import tensorflow as tf\n",
    "import matplotlib.pyplot as plt\n",
    "from sklearn.model_selection import train_test_split\n",
    "\n",
    "%matplotlib inline\n",
    "%config InlineBackend.figure_format = 'retina'\n",
    "plt.rcParams['figure.figsize'] = (10.0, 8.0) # set default size of plots\n",
    "plt.rcParams['image.interpolation'] = 'nearest'\n",
    "plt.rcParams['image.cmap'] = 'gray'\n",
    "\n",
    "# for auto-reloading external modules\n",
    "# see http://stackoverflow.com/questions/1907993/autoreload-of-modules-in-ipython\n",
    "%load_ext autoreload\n",
    "%autoreload 2\n",
    "\n",
    "EPS = 1e-8 # epsilon constant for numeric stability"
   ]
  },
  {
   "cell_type": "code",
   "execution_count": 54,
   "metadata": {
    "collapsed": true
   },
   "outputs": [],
   "source": [
    "# Available agents/environments:\n",
    "#  Ant-v1.pkl\n",
    "#  HalfCheetah-v1.pkl\n",
    "#  Hopper-v1.pkl\n",
    "#  Humanoid-v1.pkl\n",
    "#  Reacher-v1.pkl\n",
    "#  Walker2d-v1.pkl\n",
    "\n",
    "ENV_NAME = \"Ant-v1\""
   ]
  },
  {
   "cell_type": "markdown",
   "metadata": {},
   "source": [
    "## Expert data loading and preprocessing"
   ]
  },
  {
   "cell_type": "code",
   "execution_count": 55,
   "metadata": {},
   "outputs": [
    {
     "name": "stdout",
     "output_type": "stream",
     "text": [
      "observations shape:  (20000, 111)\n",
      "actions shape:  (20000, 8)\n"
     ]
    }
   ],
   "source": [
    "# Load the expert data from pickle saved in 'homework1/expert_data'\n",
    "expert_data = None\n",
    "with open(\"../expert_data/{}.pkl\".format(ENV_NAME), \"rb\") as f:\n",
    "    expert_data = pickle.load(f)\n",
    "\n",
    "observations, actions = expert_data[\"observations\"], expert_data[\"actions\"]\n",
    "actions = np.squeeze(actions)\n",
    "\n",
    "# As a sanity check, print out the size of the training and test data.\n",
    "print('observations shape: ', observations.shape)\n",
    "print('actions shape: ', actions.shape)\n",
    "\n",
    "num_total, N_in = observations.shape\n",
    "N_out = actions.shape[-1]"
   ]
  },
  {
   "cell_type": "markdown",
   "metadata": {},
   "source": [
    "## Train, validation, test split"
   ]
  },
  {
   "cell_type": "code",
   "execution_count": 56,
   "metadata": {},
   "outputs": [
    {
     "name": "stdout",
     "output_type": "stream",
     "text": [
      "Train data shape:  (17000, 111)\n",
      "Train labels shape:  (17000, 8)\n",
      "Validation data shape:  (2000, 111)\n",
      "Validation labels shape:  (2000, 8)\n",
      "Test data shape:  (1000, 111)\n",
      "Test labels shape:  (1000, 8)\n",
      "Dev data shape:  (500, 111)\n",
      "Dev labels shape:  (500, 8)\n"
     ]
    }
   ],
   "source": [
    "# Split the data into train, val, and test sets. Also, create a\n",
    "# small dataset for development purposes.\n",
    "num_train = 17000\n",
    "num_val   = 2000\n",
    "num_test  = 1000\n",
    "num_dev   = 500\n",
    "\n",
    "# Split the data into test set and temporary set, which will be \n",
    "# split into training and validation sets\n",
    "X_tmp, X_test, y_tmp, y_test = train_test_split(observations,\n",
    "                                                actions,\n",
    "                                                test_size=num_test)\n",
    "\n",
    "# Split X_tmp into training and validation\n",
    "X_train, X_val, y_train, y_val = train_test_split(X_tmp,\n",
    "                                                  y_tmp,\n",
    "                                                  train_size=num_train)\n",
    "# Create the development set, which is just a small subset of\n",
    "# the training set.\n",
    "mask = np.random.choice(num_train, num_dev, replace=False)\n",
    "X_dev = X_train[mask]\n",
    "y_dev = y_train[mask]\n",
    "\n",
    "print('Train data shape: ', X_train.shape)\n",
    "assert(X_train.shape[0] == num_train)\n",
    "\n",
    "print('Train labels shape: ', y_train.shape)\n",
    "assert(y_train.shape[0] == num_train)\n",
    "\n",
    "print('Validation data shape: ', X_val.shape)\n",
    "assert(X_val.shape[0] == num_val)\n",
    "print('Validation labels shape: ', y_val.shape)\n",
    "assert(y_val.shape[0] == num_val)\n",
    "\n",
    "print('Test data shape: ', X_test.shape)\n",
    "assert(X_test.shape[0] == num_test)\n",
    "print('Test labels shape: ', y_test.shape)\n",
    "assert(y_test.shape[0] == num_test)\n",
    "\n",
    "print('Dev data shape: ', X_dev.shape)\n",
    "assert(X_dev.shape[0] == num_dev)\n",
    "print('Dev labels shape: ', y_dev.shape)\n",
    "assert(y_dev.shape[0] == num_dev)"
   ]
  },
  {
   "cell_type": "markdown",
   "metadata": {},
   "source": [
    "### Preprocessing: zero mean and unit variance"
   ]
  },
  {
   "cell_type": "code",
   "execution_count": 57,
   "metadata": {},
   "outputs": [],
   "source": [
    "# Preprocessing: subtract the mean image\n",
    "# first: compute the mean and standard deviation from training X\n",
    "mean = np.nanmean(X_train, axis=0)\n",
    "std = np.std(X_train, axis=0) + EPS\n",
    "\n",
    "# second: subtract mean and std from datasets\n",
    "for X in (X_train, X_val, X_test, X_dev):\n",
    "    X -= mean\n",
    "    X /= std"
   ]
  },
  {
   "cell_type": "code",
   "execution_count": 58,
   "metadata": {},
   "outputs": [],
   "source": [
    "# tf Graph input\n",
    "X = tf.placeholder(\"float\", [None, N_in])\n",
    "y = tf.placeholder(\"float\", [None, N_out])\n",
    "\n",
    "N_h1 = 20\n",
    "N_h2 = 20\n",
    "\n",
    "# Weights and biases\n",
    "params = {\n",
    "    'W1': tf.Variable(tf.random_normal([N_in, N_h1])),\n",
    "    'W2': tf.Variable(tf.random_normal([N_h1, N_h2])),\n",
    "    'Wout': tf.Variable(tf.random_normal([N_h2, N_out])),\n",
    "    \n",
    "    'b1': tf.Variable(tf.random_normal([N_h1])),\n",
    "    'b2': tf.Variable(tf.random_normal([N_h2])),\n",
    "    'bout': tf.Variable(tf.random_normal([N_out]))\n",
    "}\n",
    "\n",
    "# Hidden layer with ReLU non-linearity\n",
    "h1 = tf.add(tf.matmul(X, params['W1']), params['b1'])\n",
    "z1 = tf.nn.relu(h1)\n",
    "# Hidden layer with RELU non-linearity\n",
    "h2 = tf.add(tf.matmul(z1, params['W2']), params['b2'])\n",
    "z2 = tf.nn.relu(h2)\n",
    "# Linear output layer\n",
    "out = tf.matmul(z2, params['Wout']) + params['bout']\n",
    "\n",
    "\n",
    "# Loss and optimizer\n",
    "cost = tf.reduce_mean(tf.nn.softmax_cross_entropy_with_logits(logits=out, labels=y))\n",
    "optimizer = tf.train.AdamOptimizer(learning_rate=1e-4).minimize(cost)\n",
    "\n",
    "# Initialize tf the variables\n",
    "init = tf.global_variables_initializer()"
   ]
  },
  {
   "cell_type": "code",
   "execution_count": 59,
   "metadata": {},
   "outputs": [
    {
     "name": "stdout",
     "output_type": "stream",
     "text": [
      "(128, 1, 8)\n"
     ]
    }
   ],
   "source": [
    "print(y_batch.shape)"
   ]
  },
  {
   "cell_type": "code",
   "execution_count": 68,
   "metadata": {},
   "outputs": [
    {
     "name": "stdout",
     "output_type": "stream",
     "text": [
      "Epoch: 0001, cost: 13.675855044\n",
      "Epoch: 0002, cost: 7.500029008\n",
      "Epoch: 0003, cost: 1.768195194\n",
      "Epoch: 0004, cost: -3.504271288\n",
      "Epoch: 0005, cost: -8.303980984\n",
      "Epoch: 0006, cost: -12.719132734\n",
      "Epoch: 0007, cost: -16.787406519\n",
      "Epoch: 0008, cost: -20.574495623\n",
      "Epoch: 0009, cost: -24.178288713\n",
      "Epoch: 0010, cost: -27.672805129\n",
      "Optimization Finished!\n",
      "Accuracy: 0.20600000023841858\n"
     ]
    }
   ],
   "source": [
    "NUM_EPOCHS = 10\n",
    "BATCH_SIZE = 128\n",
    "DISPLAY_EVERY = 1\n",
    "\n",
    "# Run the graph\n",
    "with tf.Session() as sess:\n",
    "    sess.run(init)\n",
    "\n",
    "    # Training cycle\n",
    "    for epoch in range(NUM_EPOCHS):\n",
    "        avg_cost = 0.0\n",
    "        num_batches = int(num_train/BATCH_SIZE)\n",
    "\n",
    "        for i in range(num_batches):\n",
    "            X_batch = X_train[i*BATCH_SIZE:(i+1)*BATCH_SIZE]\n",
    "            y_batch = y_train[i*BATCH_SIZE:(i+1)*BATCH_SIZE]\n",
    "\n",
    "            _, c = sess.run([optimizer, cost],\n",
    "                            feed_dict={\n",
    "                                X: X_batch,\n",
    "                                y: y_batch})\n",
    "            avg_cost += c / num_batches\n",
    "\n",
    "        if epoch % DISPLAY_EVERY == 0:\n",
    "            print(\"Epoch: {:04d}, cost: {:.9f}\".format(epoch+1, avg_cost))\n",
    "\n",
    "    print(\"Optimization Finished!\")\n",
    "\n",
    "    # Test model\n",
    "    correct_prediction = tf.equal(tf.argmax(out, 1), tf.argmax(y, 1))\n",
    "    # Calculate accuracy\n",
    "    accuracy = tf.reduce_mean(tf.cast(correct_prediction, \"float\"))\n",
    "    accuracy_num = accuracy.eval({X: X_test, y: y_test})\n",
    "    print(\"Accuracy: {}\".format(accuracy_num))"
   ]
  },
  {
   "cell_type": "code",
   "execution_count": null,
   "metadata": {
    "collapsed": true
   },
   "outputs": [],
   "source": []
  }
 ],
 "metadata": {
  "kernelspec": {
   "display_name": "Python 3",
   "language": "python",
   "name": "python3"
  },
  "language_info": {
   "codemirror_mode": {
    "name": "ipython",
    "version": 3
   },
   "file_extension": ".py",
   "mimetype": "text/x-python",
   "name": "python",
   "nbconvert_exporter": "python",
   "pygments_lexer": "ipython3",
   "version": "3.6.1"
  }
 },
 "nbformat": 4,
 "nbformat_minor": 2
}
