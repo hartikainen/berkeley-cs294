{
 "cells": [
  {
   "cell_type": "code",
   "execution_count": 10,
   "metadata": {},
   "outputs": [
    {
     "name": "stdout",
     "output_type": "stream",
     "text": [
      "The autoreload extension is already loaded. To reload it, use:\n",
      "  %reload_ext autoreload\n"
     ]
    }
   ],
   "source": [
    "# Some boilerplate setup\n",
    "\n",
    "import time\n",
    "import pickle\n",
    "import numpy as np\n",
    "import tensorflow as tf\n",
    "import matplotlib.pyplot as plt\n",
    "from sklearn.model_selection import train_test_split\n",
    "\n",
    "%matplotlib inline\n",
    "%config InlineBackend.figure_format = 'retina'\n",
    "plt.rcParams['figure.figsize'] = (10.0, 8.0) # set default size of plots\n",
    "plt.rcParams['image.interpolation'] = 'nearest'\n",
    "plt.rcParams['image.cmap'] = 'gray'\n",
    "\n",
    "# for auto-reloading external modules\n",
    "# see http://stackoverflow.com/questions/1907993/autoreload-of-modules-in-ipython\n",
    "%load_ext autoreload\n",
    "%autoreload 2\n",
    "\n",
    "EPS = 1e-8 # epsilon constant for numeric stability"
   ]
  },
  {
   "cell_type": "code",
   "execution_count": 11,
   "metadata": {
    "collapsed": true
   },
   "outputs": [],
   "source": [
    "# Available agents/environments:\n",
    "#  Ant-v1.pkl\n",
    "#  HalfCheetah-v1.pkl\n",
    "#  Hopper-v1.pkl\n",
    "#  Humanoid-v1.pkl\n",
    "#  Reacher-v1.pkl\n",
    "#  Walker2d-v1.pkl\n",
    "\n",
    "ENV_NAME = \"Ant-v1\""
   ]
  },
  {
   "cell_type": "markdown",
   "metadata": {},
   "source": [
    "## Expert data loading and preprocessing"
   ]
  },
  {
   "cell_type": "code",
   "execution_count": 13,
   "metadata": {},
   "outputs": [
    {
     "name": "stdout",
     "output_type": "stream",
     "text": [
      "observations shape:  (19941, 111)\n",
      "actions shape:  (19941, 1, 8)\n"
     ]
    }
   ],
   "source": [
    "# Load the expert data from pickle saved in 'homework1/expert_data'\n",
    "expert_data = None\n",
    "with open(\"../expert_data/{}.pkl\".format(ENV_NAME), \"rb\") as f:\n",
    "    expert_data = pickle.load(f)\n",
    "\n",
    "observations, actions = expert_data[\"observations\"], expert_data[\"actions\"]\n",
    "\n",
    "# As a sanity check, print out the size of the training and test data.\n",
    "print('observations shape: ', observations.shape)\n",
    "print('actions shape: ', actions.shape)\n",
    "\n",
    "num_total = observations.shape[0]"
   ]
  },
  {
   "cell_type": "markdown",
   "metadata": {},
   "source": [
    "## Train, validation, test split"
   ]
  },
  {
   "cell_type": "code",
   "execution_count": 65,
   "metadata": {},
   "outputs": [
    {
     "name": "stdout",
     "output_type": "stream",
     "text": [
      "Train data shape:  (17000, 111)\n",
      "Train labels shape:  (17000, 1, 8)\n",
      "Validation data shape:  (2000, 111)\n",
      "Validation labels shape:  (2000, 1, 8)\n",
      "Test data shape:  (1000, 111)\n",
      "Test labels shape:  (1000, 1, 8)\n",
      "Dev data shape:  (500, 111)\n",
      "Dev labels shape:  (500, 1, 8)\n"
     ]
    }
   ],
   "source": [
    "# Split the data into train, val, and test sets. Also, create a\n",
    "# small dataset for development purposes.\n",
    "num_train = 17000\n",
    "num_val   = 2000\n",
    "num_test  = 1000\n",
    "num_dev   = 500\n",
    "\n",
    "# Split the data into test set and temporary set, which will be \n",
    "# split into training and validation sets\n",
    "X_tmp, X_test, y_tmp, y_test = train_test_split(observations,\n",
    "                                                actions,\n",
    "                                                test_size=num_test)\n",
    "\n",
    "# Split X_tmp into training and validation\n",
    "X_train, X_val, y_train, y_val = train_test_split(X_tmp,\n",
    "                                                  y_tmp,\n",
    "                                                  train_size=num_train)\n",
    "\n",
    "# Create the development set, which is just a small subset of\n",
    "# the training set.\n",
    "mask = np.random.choice(num_train, num_dev, replace=False)\n",
    "X_dev = X_train[mask]\n",
    "y_dev = y_train[mask]\n",
    "\n",
    "print('Train data shape: ', X_train.shape)\n",
    "assert(X_train.shape[0] == num_train)\n",
    "\n",
    "print('Train labels shape: ', y_train.shape)\n",
    "assert(y_train.shape[0] == num_train)\n",
    "\n",
    "print('Validation data shape: ', X_val.shape)\n",
    "assert(X_val.shape[0] == num_val)\n",
    "print('Validation labels shape: ', y_val.shape)\n",
    "assert(y_val.shape[0] == num_val)\n",
    "\n",
    "print('Test data shape: ', X_test.shape)\n",
    "assert(X_test.shape[0] == num_test)\n",
    "print('Test labels shape: ', y_test.shape)\n",
    "assert(y_test.shape[0] == num_test)\n",
    "\n",
    "print('Dev data shape: ', X_dev.shape)\n",
    "assert(X_dev.shape[0] == num_dev)\n",
    "print('Dev labels shape: ', y_dev.shape)\n",
    "assert(y_dev.shape[0] == num_dev)"
   ]
  },
  {
   "cell_type": "markdown",
   "metadata": {},
   "source": [
    "### Preprocessing: zero mean and unit variance"
   ]
  },
  {
   "cell_type": "code",
   "execution_count": 66,
   "metadata": {},
   "outputs": [
    {
     "name": "stdout",
     "output_type": "stream",
     "text": [
      "[  5.64472242e-01   9.39038061e-01   9.80446661e-03  -5.89809492e-02\n",
      "   3.14805490e-01  -5.80722847e-02   6.59134168e-01  -3.14160695e-01\n",
      "  -5.23022658e-01   1.20765490e-01  -5.22644439e-01   3.58371705e-01\n",
      "   7.19398046e-01   4.19138175e+00  -2.09986642e-01  -4.71405981e-03\n",
      "  -5.49128675e-03  -1.36528247e-02   2.06050783e-02  -4.23728663e-03\n",
      "   8.81252797e-03   2.44797280e-03  -8.96436481e-03  -8.94596010e-03\n",
      "  -9.69038608e-03   1.24473021e-02   1.65523978e-03   0.00000000e+00\n",
      "   0.00000000e+00   0.00000000e+00   0.00000000e+00   0.00000000e+00\n",
      "   0.00000000e+00   0.00000000e+00   0.00000000e+00   0.00000000e+00\n",
      "   0.00000000e+00   0.00000000e+00   0.00000000e+00   0.00000000e+00\n",
      "   0.00000000e+00   0.00000000e+00   0.00000000e+00   0.00000000e+00\n",
      "   0.00000000e+00   0.00000000e+00   0.00000000e+00   0.00000000e+00\n",
      "   0.00000000e+00   0.00000000e+00   0.00000000e+00   9.37919939e-02\n",
      "  -7.98819630e-02  -7.19467402e-02   5.73737393e-02  -5.14261427e-04\n",
      "   9.40267173e-02   0.00000000e+00   0.00000000e+00   0.00000000e+00\n",
      "   0.00000000e+00   0.00000000e+00   0.00000000e+00   0.00000000e+00\n",
      "   0.00000000e+00   0.00000000e+00   0.00000000e+00   0.00000000e+00\n",
      "   0.00000000e+00   3.79139647e-02   5.30368125e-02  -8.43244176e-03\n",
      "  -4.95123973e-02   1.82037501e-02   5.33714475e-02   0.00000000e+00\n",
      "   0.00000000e+00   0.00000000e+00   0.00000000e+00   0.00000000e+00\n",
      "   0.00000000e+00   0.00000000e+00   0.00000000e+00   0.00000000e+00\n",
      "   0.00000000e+00   0.00000000e+00   0.00000000e+00  -1.05823330e-01\n",
      "  -9.63146969e-03   4.82319446e-02   3.43915154e-02   1.78842211e-03\n",
      "   1.06076387e-01   0.00000000e+00   0.00000000e+00   0.00000000e+00\n",
      "   0.00000000e+00   0.00000000e+00   0.00000000e+00   0.00000000e+00\n",
      "   0.00000000e+00   0.00000000e+00   0.00000000e+00   0.00000000e+00\n",
      "   0.00000000e+00   5.82695436e-03  -1.59014083e-02   1.75417316e-03\n",
      "  -1.48749719e-02   6.81268211e-04   1.63362690e-02] [ 0.09953776  0.03289116  0.04436698  0.05830642  0.09529033  0.42953675\n",
      "  0.16617343  0.26169872  0.02180583  0.4267293   0.02006593  0.19527226\n",
      "  0.24037491  1.02810513  0.7131945   1.09603921  1.03343308  1.18377487\n",
      "  0.81608487  5.61281514  2.36590273  1.97960402  0.31170664  5.86278937\n",
      "  0.33666419  1.40550215  3.09099539  0.          0.          0.          0.\n",
      "  0.          0.          0.          0.          0.          0.          0.\n",
      "  0.          0.          0.          0.          0.          0.          0.\n",
      "  0.          0.          0.          0.          0.          0.\n",
      "  0.29167755  0.28546378  0.28705488  0.29386203  0.29851541  0.29174673\n",
      "  0.          0.          0.          0.          0.          0.          0.\n",
      "  0.          0.          0.          0.          0.          0.22399317\n",
      "  0.22447757  0.22050161  0.2243777   0.22382722  0.22459917  0.          0.\n",
      "  0.          0.          0.          0.          0.          0.          0.\n",
      "  0.          0.          0.          0.30760341  0.30386446  0.31664102\n",
      "  0.31718143  0.31695592  0.30780679  0.          0.          0.          0.\n",
      "  0.          0.          0.          0.          0.          0.          0.\n",
      "  0.          0.1234764   0.12543891  0.11894473  0.12546371  0.1240597\n",
      "  0.12671799]\n"
     ]
    },
    {
     "name": "stderr",
     "output_type": "stream",
     "text": [
      "/Users/kristian/code/berkeley-cs294/homework1/.venv/lib/python3.6/site-packages/ipykernel_launcher.py:11: RuntimeWarning: invalid value encountered in true_divide\n",
      "  # This is added back by InteractiveShellApp.init_path()\n"
     ]
    }
   ],
   "source": [
    "# Preprocessing: subtract the mean image\n",
    "# first: compute the mean and standard deviation from training X\n",
    "mean = np.nanmean(X_train, axis=0)\n",
    "std = np.std(X_train, axis=0) + EPS\n",
    "\n",
    "print(mean, std)\n",
    "\n",
    "# second: subtract mean and std from datasets\n",
    "for X in (X_train, X_val, X_test, X_dev):\n",
    "    X -= mean\n",
    "    X /= std\n",
    "\n",
    "# X_train -= mean\n",
    "# X_train /= std\n",
    "\n",
    "# X_val -= mean\n",
    "# X_val /= std\n",
    "\n",
    "# X_test -= mean\n",
    "# X_test /= std\n",
    "\n",
    "# X_dev -= mean\n",
    "# X_dev /= std\n",
    "\n",
    "# print(np.mean(X_train, axis=0))\n",
    "# print(np.mean(X_val, axis=0))\n",
    "# print(np.mean(X_test, axis=0))\n",
    "# print(np.mean(X_dev, axis=0))"
   ]
  },
  {
   "cell_type": "code",
   "execution_count": 62,
   "metadata": {},
   "outputs": [
    {
     "name": "stdout",
     "output_type": "stream",
     "text": [
      "[0 0 0 0 0 0 0 0 0 0 0 0 0 0 0 0 0 0 0 0 0 0 0 0 0 0 0 0 0 0 0 0 0 0 0 0 0\n",
      " 0 0 0 0 0 0 0 0 0 0 0 0 0 0 0 0 0 0 0 0 0 0 0 0 0 0 0 0 0 0 0 0 0 0 0 0 0\n",
      " 0 0 0 0 0 0 0 0 0 0 0 0 0 0 0 0 0 0 0 0 0 0 0 0 0 0 0 0 0 0 0 0 0 0 0 0 0]\n"
     ]
    }
   ],
   "source": []
  },
  {
   "cell_type": "code",
   "execution_count": null,
   "metadata": {
    "collapsed": true
   },
   "outputs": [],
   "source": []
  }
 ],
 "metadata": {
  "kernelspec": {
   "display_name": "Python 3",
   "language": "python",
   "name": "python3"
  },
  "language_info": {
   "codemirror_mode": {
    "name": "ipython",
    "version": 3
   },
   "file_extension": ".py",
   "mimetype": "text/x-python",
   "name": "python",
   "nbconvert_exporter": "python",
   "pygments_lexer": "ipython3",
   "version": "3.6.1"
  }
 },
 "nbformat": 4,
 "nbformat_minor": 2
}
