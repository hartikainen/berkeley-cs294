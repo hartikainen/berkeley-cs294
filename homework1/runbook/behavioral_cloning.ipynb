{
 "cells": [
  {
   "cell_type": "code",
   "execution_count": 1,
   "metadata": {},
   "outputs": [
    {
     "name": "stdout",
     "output_type": "stream",
     "text": [
      "hdf5 is not supported on this machine (please install/reinstall h5py for optimal experience)\n"
     ]
    }
   ],
   "source": [
    "# Some boilerplate setup\n",
    "import sys\n",
    "sys.path.append(\"../\")\n",
    "\n",
    "import time\n",
    "import pickle\n",
    "import numpy as np\n",
    "import tensorflow as tf\n",
    "import matplotlib.pyplot as plt\n",
    "from sklearn.model_selection import train_test_split\n",
    "\n",
    "\n",
    "from helpers import EarlyStoppingCallback\n",
    "\n",
    "%matplotlib inline\n",
    "%config InlineBackend.figure_format = 'retina'\n",
    "plt.rcParams['figure.figsize'] = (10.0, 8.0) # set default size of plots\n",
    "plt.rcParams['image.interpolation'] = 'nearest'\n",
    "plt.rcParams['image.cmap'] = 'gray'\n",
    "\n",
    "# for auto-reloading external modules\n",
    "# see http://stackoverflow.com/questions/1907993/autoreload-of-modules-in-ipython\n",
    "%load_ext autoreload\n",
    "%autoreload 2\n",
    "\n",
    "EPS = 1e-8 # epsilon constant for numeric stability"
   ]
  },
  {
   "cell_type": "code",
   "execution_count": 2,
   "metadata": {
    "collapsed": true
   },
   "outputs": [],
   "source": [
    "# Available agents/environments:\n",
    "#  Ant-v1.pkl\n",
    "#  HalfCheetah-v1.pkl\n",
    "#  Hopper-v1.pkl\n",
    "#  Humanoid-v1.pkl\n",
    "#  Reacher-v1.pkl\n",
    "#  Walker2d-v1.pkl\n",
    "\n",
    "ENV_NAME = \"Ant-v1\""
   ]
  },
  {
   "cell_type": "markdown",
   "metadata": {},
   "source": [
    "## Expert data loading and preprocessing"
   ]
  },
  {
   "cell_type": "code",
   "execution_count": 3,
   "metadata": {},
   "outputs": [
    {
     "name": "stdout",
     "output_type": "stream",
     "text": [
      "observations shape:  (20000, 111)\n",
      "actions shape:  (20000, 8)\n"
     ]
    }
   ],
   "source": [
    "# Load the expert data from pickle saved in 'homework1/expert_data'\n",
    "expert_data = None\n",
    "with open(\"../expert_data/{}.pkl\".format(ENV_NAME), \"rb\") as f:\n",
    "    expert_data = pickle.load(f)\n",
    "\n",
    "observations, actions = expert_data[\"observations\"], expert_data[\"actions\"]\n",
    "actions = np.squeeze(actions)\n",
    "\n",
    "# As a sanity check, print out the size of the training and test data.\n",
    "print('observations shape: ', observations.shape)\n",
    "print('actions shape: ', actions.shape)\n",
    "\n",
    "num_total, D_in = observations.shape\n",
    "D_out = actions.shape[-1]"
   ]
  },
  {
   "cell_type": "markdown",
   "metadata": {},
   "source": [
    "## Train, validation, test split"
   ]
  },
  {
   "cell_type": "code",
   "execution_count": 4,
   "metadata": {},
   "outputs": [
    {
     "name": "stdout",
     "output_type": "stream",
     "text": [
      "Train data shape:  (17000, 111)\n",
      "Train labels shape:  (17000, 8)\n",
      "Validation data shape:  (2000, 111)\n",
      "Validation labels shape:  (2000, 8)\n",
      "Test data shape:  (1000, 111)\n",
      "Test labels shape:  (1000, 8)\n",
      "Dev data shape:  (500, 111)\n",
      "Dev labels shape:  (500, 8)\n"
     ]
    }
   ],
   "source": [
    "# Split the data into train, val, and test sets. Also, create a\n",
    "# small dataset for development purposes.\n",
    "num_train = 17000\n",
    "num_val   = 2000\n",
    "num_test  = 1000\n",
    "num_dev   = 500\n",
    "\n",
    "# Split the data into test set and temporary set, which will be \n",
    "# split into training and validation sets\n",
    "X_tmp, X_test, y_tmp, y_test = train_test_split(observations,\n",
    "                                                actions,\n",
    "                                                test_size=num_test)\n",
    "\n",
    "# Split X_tmp into training and validation\n",
    "X_train, X_val, y_train, y_val = train_test_split(X_tmp,\n",
    "                                                  y_tmp,\n",
    "                                                  train_size=num_train)\n",
    "# Create the development set, which is just a small subset of\n",
    "# the training set.\n",
    "mask = np.random.choice(num_train, num_dev, replace=False)\n",
    "X_dev = X_train[mask]\n",
    "y_dev = y_train[mask]\n",
    "\n",
    "print('Train data shape: ', X_train.shape)\n",
    "assert(X_train.shape[0] == num_train)\n",
    "\n",
    "print('Train labels shape: ', y_train.shape)\n",
    "assert(y_train.shape[0] == num_train)\n",
    "\n",
    "print('Validation data shape: ', X_val.shape)\n",
    "assert(X_val.shape[0] == num_val)\n",
    "print('Validation labels shape: ', y_val.shape)\n",
    "assert(y_val.shape[0] == num_val)\n",
    "\n",
    "print('Test data shape: ', X_test.shape)\n",
    "assert(X_test.shape[0] == num_test)\n",
    "print('Test labels shape: ', y_test.shape)\n",
    "assert(y_test.shape[0] == num_test)\n",
    "\n",
    "print('Dev data shape: ', X_dev.shape)\n",
    "assert(X_dev.shape[0] == num_dev)\n",
    "print('Dev labels shape: ', y_dev.shape)\n",
    "assert(y_dev.shape[0] == num_dev)"
   ]
  },
  {
   "cell_type": "markdown",
   "metadata": {},
   "source": [
    "### Preprocessing: zero mean and unit variance"
   ]
  },
  {
   "cell_type": "code",
   "execution_count": 5,
   "metadata": {
    "collapsed": true
   },
   "outputs": [],
   "source": [
    "# Preprocessing: subtract the mean image\n",
    "# first: compute the mean and standard deviation from training X\n",
    "mean = np.nanmean(X_train, axis=0)\n",
    "std = np.std(X_train, axis=0) + EPS\n",
    "\n",
    "# second: subtract mean and std from datasets\n",
    "for X in (X_train, X_val, X_test, X_dev):\n",
    "    X -= mean\n",
    "    X /= std"
   ]
  },
  {
   "cell_type": "code",
   "execution_count": 6,
   "metadata": {},
   "outputs": [],
   "source": [
    "# tf Graph input\n",
    "X = tf.placeholder(\"float\", [None, D_in])\n",
    "y = tf.placeholder(\"float\", [None, D_out])\n",
    "\n",
    "N_h1 = 20\n",
    "N_h2 = 20\n",
    "\n",
    "with tf.name_scope('Network'): \n",
    "    # Weights and biases\n",
    "    params = {\n",
    "        'W1': tf.Variable(tf.random_normal([D_in, N_h1])),\n",
    "        'W2': tf.Variable(tf.random_normal([N_h1, N_h2])),\n",
    "        'Wout': tf.Variable(tf.random_normal([N_h2, D_out])),\n",
    "\n",
    "        'b1': tf.Variable(tf.random_normal([N_h1])),\n",
    "        'b2': tf.Variable(tf.random_normal([N_h2])),\n",
    "        'bout': tf.Variable(tf.random_normal([D_out]))\n",
    "    }\n",
    "\n",
    "    # Hidden layer with ReLU non-linearity\n",
    "    h1 = tf.add(tf.matmul(X, params['W1']), params['b1'])\n",
    "    z1 = tf.nn.relu(h1)\n",
    "    # Hidden layer with RELU non-linearity\n",
    "    h2 = tf.add(tf.matmul(z1, params['W2']), params['b2'])\n",
    "    z2 = tf.nn.relu(h2)\n",
    "    # Linear output layer\n",
    "    out = tf.add(tf.matmul(z2, params['Wout']), params['bout'])\n",
    "\n",
    "# Loss and optimizer\n",
    "loss = tf.reduce_mean(tf.squared_difference(out, y))\n",
    "optimizer = tf.train.AdamOptimizer(learning_rate=1e-4)\n",
    "# .minimize(loss)\n",
    "# optimizer = tflearn.optimizers.ProximalAdaGrad(learning_rate=1e-4)\n",
    "\n",
    "# Initialize tf the variables\n",
    "init = tf.global_variables_initializer()"
   ]
  },
  {
   "cell_type": "code",
   "execution_count": 18,
   "metadata": {},
   "outputs": [
    {
     "name": "stdout",
     "output_type": "stream",
     "text": [
      "INFO:tensorflow:Using default config.\n",
      "INFO:tensorflow:Using config: {'_task_type': None, '_task_id': 0, '_cluster_spec': <tensorflow.python.training.server_lib.ClusterSpec object at 0x13ae60e10>, '_master': '', '_num_ps_replicas': 0, '_num_worker_replicas': 0, '_environment': 'local', '_is_chief': True, '_evaluation_master': '', '_tf_config': gpu_options {\n",
      "  per_process_gpu_memory_fraction: 1\n",
      "}\n",
      ", '_tf_random_seed': None, '_save_summary_steps': 100, '_save_checkpoints_secs': 600, '_save_checkpoints_steps': None, '_keep_checkpoint_max': 5, '_keep_checkpoint_every_n_hours': 10000, '_model_dir': None}\n",
      "WARNING:tensorflow:Using temporary folder as model directory: /var/folders/_l/_msj97l55wsghyt1qh_r0jyh0000gn/T/tmpm1fhs0wi\n"
     ]
    },
    {
     "ename": "AttributeError",
     "evalue": "'numpy.ndarray' object has no attribute 'get_shape'",
     "output_type": "error",
     "traceback": [
      "\u001b[0;31m---------------------------------------------------------------------------\u001b[0m",
      "\u001b[0;31mAttributeError\u001b[0m                            Traceback (most recent call last)",
      "\u001b[0;32m<ipython-input-18-0a94cec9dd31>\u001b[0m in \u001b[0;36m<module>\u001b[0;34m()\u001b[0m\n\u001b[1;32m     24\u001b[0m     \u001b[0;32mreturn\u001b[0m \u001b[0mX_train\u001b[0m\u001b[0;34m,\u001b[0m \u001b[0my_train\u001b[0m\u001b[0;34m\u001b[0m\u001b[0m\n\u001b[1;32m     25\u001b[0m \u001b[0;34m\u001b[0m\u001b[0m\n\u001b[0;32m---> 26\u001b[0;31m \u001b[0mmodel\u001b[0m\u001b[0;34m.\u001b[0m\u001b[0mfit\u001b[0m\u001b[0;34m(\u001b[0m\u001b[0minput_fn\u001b[0m\u001b[0;34m=\u001b[0m\u001b[0minput_fn_train\u001b[0m\u001b[0;34m)\u001b[0m\u001b[0;34m\u001b[0m\u001b[0m\n\u001b[0m\u001b[1;32m     27\u001b[0m \u001b[0;34m\u001b[0m\u001b[0m\n",
      "\u001b[0;32m/Users/kristian/code/berkeley-cs294/homework1/.venv/lib/python3.6/site-packages/tensorflow/python/util/deprecation.py\u001b[0m in \u001b[0;36mnew_func\u001b[0;34m(*args, **kwargs)\u001b[0m\n\u001b[1;32m    279\u001b[0m             \u001b[0m_call_location\u001b[0m\u001b[0;34m(\u001b[0m\u001b[0;34m)\u001b[0m\u001b[0;34m,\u001b[0m \u001b[0mdecorator_utils\u001b[0m\u001b[0;34m.\u001b[0m\u001b[0mget_qualified_name\u001b[0m\u001b[0;34m(\u001b[0m\u001b[0mfunc\u001b[0m\u001b[0;34m)\u001b[0m\u001b[0;34m,\u001b[0m\u001b[0;34m\u001b[0m\u001b[0m\n\u001b[1;32m    280\u001b[0m             func.__module__, arg_name, date, instructions)\n\u001b[0;32m--> 281\u001b[0;31m       \u001b[0;32mreturn\u001b[0m \u001b[0mfunc\u001b[0m\u001b[0;34m(\u001b[0m\u001b[0;34m*\u001b[0m\u001b[0margs\u001b[0m\u001b[0;34m,\u001b[0m \u001b[0;34m**\u001b[0m\u001b[0mkwargs\u001b[0m\u001b[0;34m)\u001b[0m\u001b[0;34m\u001b[0m\u001b[0m\n\u001b[0m\u001b[1;32m    282\u001b[0m     new_func.__doc__ = _add_deprecated_arg_notice_to_docstring(\n\u001b[1;32m    283\u001b[0m         func.__doc__, date, instructions)\n",
      "\u001b[0;32m/Users/kristian/code/berkeley-cs294/homework1/.venv/lib/python3.6/site-packages/tensorflow/contrib/learn/python/learn/estimators/estimator.py\u001b[0m in \u001b[0;36mfit\u001b[0;34m(self, x, y, input_fn, steps, batch_size, monitors, max_steps)\u001b[0m\n\u001b[1;32m    428\u001b[0m       \u001b[0mhooks\u001b[0m\u001b[0;34m.\u001b[0m\u001b[0mappend\u001b[0m\u001b[0;34m(\u001b[0m\u001b[0mbasic_session_run_hooks\u001b[0m\u001b[0;34m.\u001b[0m\u001b[0mStopAtStepHook\u001b[0m\u001b[0;34m(\u001b[0m\u001b[0msteps\u001b[0m\u001b[0;34m,\u001b[0m \u001b[0mmax_steps\u001b[0m\u001b[0;34m)\u001b[0m\u001b[0;34m)\u001b[0m\u001b[0;34m\u001b[0m\u001b[0m\n\u001b[1;32m    429\u001b[0m \u001b[0;34m\u001b[0m\u001b[0m\n\u001b[0;32m--> 430\u001b[0;31m     \u001b[0mloss\u001b[0m \u001b[0;34m=\u001b[0m \u001b[0mself\u001b[0m\u001b[0;34m.\u001b[0m\u001b[0m_train_model\u001b[0m\u001b[0;34m(\u001b[0m\u001b[0minput_fn\u001b[0m\u001b[0;34m=\u001b[0m\u001b[0minput_fn\u001b[0m\u001b[0;34m,\u001b[0m \u001b[0mhooks\u001b[0m\u001b[0;34m=\u001b[0m\u001b[0mhooks\u001b[0m\u001b[0;34m)\u001b[0m\u001b[0;34m\u001b[0m\u001b[0m\n\u001b[0m\u001b[1;32m    431\u001b[0m     \u001b[0mlogging\u001b[0m\u001b[0;34m.\u001b[0m\u001b[0minfo\u001b[0m\u001b[0;34m(\u001b[0m\u001b[0;34m'Loss for final step: %s.'\u001b[0m\u001b[0;34m,\u001b[0m \u001b[0mloss\u001b[0m\u001b[0;34m)\u001b[0m\u001b[0;34m\u001b[0m\u001b[0m\n\u001b[1;32m    432\u001b[0m     \u001b[0;32mreturn\u001b[0m \u001b[0mself\u001b[0m\u001b[0;34m\u001b[0m\u001b[0m\n",
      "\u001b[0;32m/Users/kristian/code/berkeley-cs294/homework1/.venv/lib/python3.6/site-packages/tensorflow/contrib/learn/python/learn/estimators/estimator.py\u001b[0m in \u001b[0;36m_train_model\u001b[0;34m(self, input_fn, hooks)\u001b[0m\n\u001b[1;32m    924\u001b[0m       \u001b[0mglobal_step\u001b[0m \u001b[0;34m=\u001b[0m \u001b[0mcontrib_framework\u001b[0m\u001b[0;34m.\u001b[0m\u001b[0mcreate_global_step\u001b[0m\u001b[0;34m(\u001b[0m\u001b[0mg\u001b[0m\u001b[0;34m)\u001b[0m\u001b[0;34m\u001b[0m\u001b[0m\n\u001b[1;32m    925\u001b[0m       \u001b[0mfeatures\u001b[0m\u001b[0;34m,\u001b[0m \u001b[0mlabels\u001b[0m \u001b[0;34m=\u001b[0m \u001b[0minput_fn\u001b[0m\u001b[0;34m(\u001b[0m\u001b[0;34m)\u001b[0m\u001b[0;34m\u001b[0m\u001b[0m\n\u001b[0;32m--> 926\u001b[0;31m       \u001b[0mself\u001b[0m\u001b[0;34m.\u001b[0m\u001b[0m_check_inputs\u001b[0m\u001b[0;34m(\u001b[0m\u001b[0mfeatures\u001b[0m\u001b[0;34m,\u001b[0m \u001b[0mlabels\u001b[0m\u001b[0;34m)\u001b[0m\u001b[0;34m\u001b[0m\u001b[0m\n\u001b[0m\u001b[1;32m    927\u001b[0m       \u001b[0mmodel_fn_ops\u001b[0m \u001b[0;34m=\u001b[0m \u001b[0mself\u001b[0m\u001b[0;34m.\u001b[0m\u001b[0m_get_train_ops\u001b[0m\u001b[0;34m(\u001b[0m\u001b[0mfeatures\u001b[0m\u001b[0;34m,\u001b[0m \u001b[0mlabels\u001b[0m\u001b[0;34m)\u001b[0m\u001b[0;34m\u001b[0m\u001b[0m\n\u001b[1;32m    928\u001b[0m       \u001b[0mops\u001b[0m\u001b[0;34m.\u001b[0m\u001b[0madd_to_collection\u001b[0m\u001b[0;34m(\u001b[0m\u001b[0mops\u001b[0m\u001b[0;34m.\u001b[0m\u001b[0mGraphKeys\u001b[0m\u001b[0;34m.\u001b[0m\u001b[0mLOSSES\u001b[0m\u001b[0;34m,\u001b[0m \u001b[0mmodel_fn_ops\u001b[0m\u001b[0;34m.\u001b[0m\u001b[0mloss\u001b[0m\u001b[0;34m)\u001b[0m\u001b[0;34m\u001b[0m\u001b[0m\n",
      "\u001b[0;32m/Users/kristian/code/berkeley-cs294/homework1/.venv/lib/python3.6/site-packages/tensorflow/contrib/learn/python/learn/estimators/estimator.py\u001b[0m in \u001b[0;36m_check_inputs\u001b[0;34m(self, features, labels)\u001b[0m\n\u001b[1;32m    732\u001b[0m                          (str(features), str(self._features_info)))\n\u001b[1;32m    733\u001b[0m     \u001b[0;32melse\u001b[0m\u001b[0;34m:\u001b[0m\u001b[0;34m\u001b[0m\u001b[0m\n\u001b[0;32m--> 734\u001b[0;31m       \u001b[0mself\u001b[0m\u001b[0;34m.\u001b[0m\u001b[0m_features_info\u001b[0m \u001b[0;34m=\u001b[0m \u001b[0mtensor_signature\u001b[0m\u001b[0;34m.\u001b[0m\u001b[0mcreate_signatures\u001b[0m\u001b[0;34m(\u001b[0m\u001b[0mfeatures\u001b[0m\u001b[0;34m)\u001b[0m\u001b[0;34m\u001b[0m\u001b[0m\n\u001b[0m\u001b[1;32m    735\u001b[0m       \u001b[0mlogging\u001b[0m\u001b[0;34m.\u001b[0m\u001b[0mdebug\u001b[0m\u001b[0;34m(\u001b[0m\u001b[0;34m'Setting feature info to %s.'\u001b[0m\u001b[0;34m,\u001b[0m \u001b[0mstr\u001b[0m\u001b[0;34m(\u001b[0m\u001b[0mself\u001b[0m\u001b[0;34m.\u001b[0m\u001b[0m_features_info\u001b[0m\u001b[0;34m)\u001b[0m\u001b[0;34m)\u001b[0m\u001b[0;34m\u001b[0m\u001b[0m\n\u001b[1;32m    736\u001b[0m     \u001b[0;32mif\u001b[0m \u001b[0mlabels\u001b[0m \u001b[0;32mis\u001b[0m \u001b[0;32mnot\u001b[0m \u001b[0;32mNone\u001b[0m\u001b[0;34m:\u001b[0m\u001b[0;34m\u001b[0m\u001b[0m\n",
      "\u001b[0;32m/Users/kristian/code/berkeley-cs294/homework1/.venv/lib/python3.6/site-packages/tensorflow/contrib/learn/python/learn/estimators/tensor_signature.py\u001b[0m in \u001b[0;36mcreate_signatures\u001b[0;34m(tensors)\u001b[0m\n\u001b[1;32m    146\u001b[0m   \u001b[0;32mif\u001b[0m \u001b[0mtensors\u001b[0m \u001b[0;32mis\u001b[0m \u001b[0;32mNone\u001b[0m\u001b[0;34m:\u001b[0m\u001b[0;34m\u001b[0m\u001b[0m\n\u001b[1;32m    147\u001b[0m     \u001b[0;32mreturn\u001b[0m \u001b[0;32mNone\u001b[0m\u001b[0;34m\u001b[0m\u001b[0m\n\u001b[0;32m--> 148\u001b[0;31m   \u001b[0;32mreturn\u001b[0m \u001b[0mTensorSignature\u001b[0m\u001b[0;34m(\u001b[0m\u001b[0mtensors\u001b[0m\u001b[0;34m)\u001b[0m\u001b[0;34m\u001b[0m\u001b[0m\n\u001b[0m\u001b[1;32m    149\u001b[0m \u001b[0;34m\u001b[0m\u001b[0m\n\u001b[1;32m    150\u001b[0m \u001b[0;34m\u001b[0m\u001b[0m\n",
      "\u001b[0;32m/Users/kristian/code/berkeley-cs294/homework1/.venv/lib/python3.6/site-packages/tensorflow/contrib/learn/python/learn/estimators/tensor_signature.py\u001b[0m in \u001b[0;36m__new__\u001b[0;34m(cls, tensor)\u001b[0m\n\u001b[1;32m     57\u001b[0m           cls, dtype=tensor.values.dtype, shape=None, is_sparse=True)\n\u001b[1;32m     58\u001b[0m     return super(TensorSignature, cls).__new__(\n\u001b[0;32m---> 59\u001b[0;31m         cls, dtype=tensor.dtype, shape=tensor.get_shape(), is_sparse=False)\n\u001b[0m\u001b[1;32m     60\u001b[0m \u001b[0;34m\u001b[0m\u001b[0m\n\u001b[1;32m     61\u001b[0m   \u001b[0;32mdef\u001b[0m \u001b[0mis_compatible_with\u001b[0m\u001b[0;34m(\u001b[0m\u001b[0mself\u001b[0m\u001b[0;34m,\u001b[0m \u001b[0mother\u001b[0m\u001b[0;34m)\u001b[0m\u001b[0;34m:\u001b[0m\u001b[0;34m\u001b[0m\u001b[0m\n",
      "\u001b[0;31mAttributeError\u001b[0m: 'numpy.ndarray' object has no attribute 'get_shape'"
     ]
    }
   ],
   "source": [
    "NUM_EPOCHS = 20\n",
    "BATCH_SIZE = 256\n",
    "NUM_BATCHES = int(num_train/BATCH_SIZE)\n",
    "DISPLAY_EVERY = 10\n",
    "\n",
    "features = [\n",
    "    tf.contrib.layers.real_valued_column(k)\n",
    "    for k in range(D_in)\n",
    "]\n",
    "\n",
    "model = tf.contrib.learn.DNNRegressor(\n",
    "    feature_columns=features,\n",
    "    hidden_units=[20, 20],\n",
    "    activation_fn=tf.nn.relu,\n",
    "    dropout=None,\n",
    "    optimizer=tf.train.ProximalAdagradOptimizer(\n",
    "      learning_rate=1e-4,\n",
    "      l1_regularization_strength=0.001\n",
    "    )\n",
    ")\n",
    "\n",
    "\n",
    "def input_fn_train(): # returns x, y\n",
    "  return X_train, y_train\n",
    "\n",
    "model.fit(input_fn=input_fn_train)\n",
    "\n"
   ]
  },
  {
   "cell_type": "code",
   "execution_count": null,
   "metadata": {
    "collapsed": true
   },
   "outputs": [],
   "source": []
  }
 ],
 "metadata": {
  "kernelspec": {
   "display_name": "Python 3",
   "language": "python",
   "name": "python3"
  },
  "language_info": {
   "codemirror_mode": {
    "name": "ipython",
    "version": 3
   },
   "file_extension": ".py",
   "mimetype": "text/x-python",
   "name": "python",
   "nbconvert_exporter": "python",
   "pygments_lexer": "ipython3",
   "version": "3.6.1"
  }
 },
 "nbformat": 4,
 "nbformat_minor": 2
}
