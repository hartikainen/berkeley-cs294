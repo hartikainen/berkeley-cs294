{
 "cells": [
  {
   "cell_type": "code",
   "execution_count": 11,
   "metadata": {},
   "outputs": [
    {
     "name": "stdout",
     "output_type": "stream",
     "text": [
      "The autoreload extension is already loaded. To reload it, use:\n",
      "  %reload_ext autoreload\n"
     ]
    }
   ],
   "source": [
    "# Some boilerplate setup\n",
    "import sys\n",
    "sys.path.append(\"../\")\n",
    "\n",
    "import time\n",
    "import pickle\n",
    "import numpy as np\n",
    "import tensorflow as tf\n",
    "from tensorflow.contrib.learn import infer_real_valued_columns_from_input\n",
    "import matplotlib.pyplot as plt\n",
    "from sklearn.model_selection import train_test_split\n",
    "\n",
    "from helpers import EarlyStoppingCallback\n",
    "\n",
    "%matplotlib inline\n",
    "%config InlineBackend.figure_format = 'retina'\n",
    "plt.rcParams['figure.figsize'] = (10.0, 8.0) # set default size of plots\n",
    "plt.rcParams['image.interpolation'] = 'nearest'\n",
    "plt.rcParams['image.cmap'] = 'gray'\n",
    "\n",
    "# for auto-reloading external modules\n",
    "# see http://stackoverflow.com/questions/1907993/autoreload-of-modules-in-ipython\n",
    "%load_ext autoreload\n",
    "%autoreload 2\n",
    "\n",
    "EPS = 1e-8 # epsilon constant for numeric stability"
   ]
  },
  {
   "cell_type": "code",
   "execution_count": 2,
   "metadata": {
    "collapsed": true
   },
   "outputs": [],
   "source": [
    "# Available agents/environments:\n",
    "#  Ant-v1.pkl\n",
    "#  HalfCheetah-v1.pkl\n",
    "#  Hopper-v1.pkl\n",
    "#  Humanoid-v1.pkl\n",
    "#  Reacher-v1.pkl\n",
    "#  Walker2d-v1.pkl\n",
    "\n",
    "ENV_NAME = \"Ant-v1\""
   ]
  },
  {
   "cell_type": "markdown",
   "metadata": {},
   "source": [
    "## Expert data loading and preprocessing"
   ]
  },
  {
   "cell_type": "code",
   "execution_count": 3,
   "metadata": {},
   "outputs": [
    {
     "name": "stdout",
     "output_type": "stream",
     "text": [
      "observations shape:  (20000, 111)\n",
      "actions shape:  (20000, 8)\n"
     ]
    }
   ],
   "source": [
    "# Load the expert data from pickle saved in 'homework1/expert_data'\n",
    "expert_data = None\n",
    "with open(\"../expert_data/{}.pkl\".format(ENV_NAME), \"rb\") as f:\n",
    "    expert_data = pickle.load(f)\n",
    "\n",
    "observations, actions = expert_data[\"observations\"], expert_data[\"actions\"]\n",
    "actions = np.squeeze(actions)\n",
    "\n",
    "# As a sanity check, print out the size of the training and test data.\n",
    "print('observations shape: ', observations.shape)\n",
    "print('actions shape: ', actions.shape)\n",
    "\n",
    "num_total, D_in = observations.shape\n",
    "D_out = actions.shape[-1]"
   ]
  },
  {
   "cell_type": "markdown",
   "metadata": {},
   "source": [
    "## Train, validation, test split"
   ]
  },
  {
   "cell_type": "code",
   "execution_count": 4,
   "metadata": {},
   "outputs": [
    {
     "name": "stdout",
     "output_type": "stream",
     "text": [
      "Train data shape:  (17000, 111)\n",
      "Train labels shape:  (17000, 8)\n",
      "Validation data shape:  (2000, 111)\n",
      "Validation labels shape:  (2000, 8)\n",
      "Test data shape:  (1000, 111)\n",
      "Test labels shape:  (1000, 8)\n",
      "Dev data shape:  (500, 111)\n",
      "Dev labels shape:  (500, 8)\n"
     ]
    }
   ],
   "source": [
    "# Split the data into train, val, and test sets. Also, create a\n",
    "# small dataset for development purposes.\n",
    "num_train = 17000\n",
    "num_val   = 2000\n",
    "num_test  = 1000\n",
    "num_dev   = 500\n",
    "\n",
    "# Split the data into test set and temporary set, which will be \n",
    "# split into training and validation sets\n",
    "X_tmp, X_test, y_tmp, y_test = train_test_split(observations,\n",
    "                                                actions,\n",
    "                                                test_size=num_test)\n",
    "\n",
    "# Split X_tmp into training and validation\n",
    "X_train, X_val, y_train, y_val = train_test_split(X_tmp,\n",
    "                                                  y_tmp,\n",
    "                                                  train_size=num_train)\n",
    "# Create the development set, which is just a small subset of\n",
    "# the training set.\n",
    "mask = np.random.choice(num_train, num_dev, replace=False)\n",
    "X_dev = X_train[mask]\n",
    "y_dev = y_train[mask]\n",
    "\n",
    "print('Train data shape: ', X_train.shape)\n",
    "assert(X_train.shape[0] == num_train)\n",
    "\n",
    "print('Train labels shape: ', y_train.shape)\n",
    "assert(y_train.shape[0] == num_train)\n",
    "\n",
    "print('Validation data shape: ', X_val.shape)\n",
    "assert(X_val.shape[0] == num_val)\n",
    "print('Validation labels shape: ', y_val.shape)\n",
    "assert(y_val.shape[0] == num_val)\n",
    "\n",
    "print('Test data shape: ', X_test.shape)\n",
    "assert(X_test.shape[0] == num_test)\n",
    "print('Test labels shape: ', y_test.shape)\n",
    "assert(y_test.shape[0] == num_test)\n",
    "\n",
    "print('Dev data shape: ', X_dev.shape)\n",
    "assert(X_dev.shape[0] == num_dev)\n",
    "print('Dev labels shape: ', y_dev.shape)\n",
    "assert(y_dev.shape[0] == num_dev)"
   ]
  },
  {
   "cell_type": "markdown",
   "metadata": {},
   "source": [
    "### Preprocessing: zero mean and unit variance"
   ]
  },
  {
   "cell_type": "code",
   "execution_count": 5,
   "metadata": {
    "collapsed": true
   },
   "outputs": [],
   "source": [
    "# Preprocessing: subtract the mean image\n",
    "# first: compute the mean and standard deviation from training X\n",
    "mean = np.nanmean(X_train, axis=0)\n",
    "std = np.std(X_train, axis=0) + EPS\n",
    "\n",
    "# second: subtract mean and std from datasets\n",
    "for X in (X_train, X_val, X_test, X_dev):\n",
    "    X -= mean\n",
    "    X /= std"
   ]
  },
  {
   "cell_type": "code",
   "execution_count": 6,
   "metadata": {
    "collapsed": true
   },
   "outputs": [],
   "source": [
    "# tf Graph input\n",
    "X = tf.placeholder(\"float\", [None, D_in])\n",
    "y = tf.placeholder(\"float\", [None, D_out])\n",
    "\n",
    "with tf.name_scope('Network'): \n",
    "    # Weights and biases\n",
    "    params = {\n",
    "        'W1': tf.Variable(tf.random_normal([D_in, N_h1])),\n",
    "        'W2': tf.Variable(tf.random_normal([N_h1, N_h2])),\n",
    "        'Wout': tf.Variable(tf.random_normal([N_h2, D_out])),\n",
    "\n",
    "        'b1': tf.Variable(tf.random_normal([N_h1])),\n",
    "        'b2': tf.Variable(tf.random_normal([N_h2])),\n",
    "        'bout': tf.Variable(tf.random_normal([D_out]))\n",
    "    }\n",
    "\n",
    "    # Hidden layer with ReLU non-linearity\n",
    "    h1 = tf.add(tf.matmul(X, params['W1']), params['b1'])\n",
    "    z1 = tf.nn.relu(h1)\n",
    "    # Hidden layer with RELU non-linearity\n",
    "    h2 = tf.add(tf.matmul(z1, params['W2']), params['b2'])\n",
    "    z2 = tf.nn.relu(h2)\n",
    "    # Linear output layer\n",
    "    out = tf.add(tf.matmul(z2, params['Wout']), params['bout'])\n",
    "\n",
    "# Loss and optimizer\n",
    "loss = tf.reduce_mean(tf.squared_difference(out, y))\n",
    "optimizer = tf.train.AdamOptimizer(learning_rate=1e-4)\n",
    "\n",
    "# Initialize tf the variables\n",
    "init = tf.global_variables_initializer()"
   ]
  },
  {
   "cell_type": "code",
   "execution_count": null,
   "metadata": {},
   "outputs": [
    {
     "name": "stdout",
     "output_type": "stream",
     "text": [
      "WARNING:tensorflow:float64 is not supported by many models, consider casting to float32.\n",
      "INFO:tensorflow:Using default config.\n",
      "INFO:tensorflow:Using config: {'_task_type': None, '_task_id': 0, '_cluster_spec': <tensorflow.python.training.server_lib.ClusterSpec object at 0x13f6d0ef0>, '_master': '', '_num_ps_replicas': 0, '_num_worker_replicas': 0, '_environment': 'local', '_is_chief': True, '_evaluation_master': '', '_tf_config': gpu_options {\n",
      "  per_process_gpu_memory_fraction: 1\n",
      "}\n",
      ", '_tf_random_seed': None, '_save_summary_steps': 100, '_save_checkpoints_secs': 600, '_save_checkpoints_steps': None, '_keep_checkpoint_max': 5, '_keep_checkpoint_every_n_hours': 10000, '_model_dir': None}\n",
      "WARNING:tensorflow:From <ipython-input-18-aaa8ccd74e1f>:26: calling BaseEstimator.fit (from tensorflow.contrib.learn.python.learn.estimators.estimator) with x is deprecated and will be removed after 2016-12-01.\n",
      "Instructions for updating:\n",
      "Estimator is decoupled from Scikit Learn interface by moving into\n",
      "separate class SKCompat. Arguments x, y and batch_size are only\n",
      "available in the SKCompat class, Estimator will only accept input_fn.\n",
      "Example conversion:\n",
      "  est = Estimator(...) -> est = SKCompat(Estimator(...))\n",
      "WARNING:tensorflow:From <ipython-input-18-aaa8ccd74e1f>:26: calling BaseEstimator.fit (from tensorflow.contrib.learn.python.learn.estimators.estimator) with y is deprecated and will be removed after 2016-12-01.\n",
      "Instructions for updating:\n",
      "Estimator is decoupled from Scikit Learn interface by moving into\n",
      "separate class SKCompat. Arguments x, y and batch_size are only\n",
      "available in the SKCompat class, Estimator will only accept input_fn.\n",
      "Example conversion:\n",
      "  est = Estimator(...) -> est = SKCompat(Estimator(...))\n",
      "WARNING:tensorflow:float64 is not supported by many models, consider casting to float32.\n",
      "WARNING:tensorflow:From /Users/kristian/code/berkeley-cs294/homework1/.venv/lib/python3.6/site-packages/tensorflow/contrib/learn/python/learn/estimators/head.py:615: scalar_summary (from tensorflow.python.ops.logging_ops) is deprecated and will be removed after 2016-11-30.\n",
      "Instructions for updating:\n",
      "Please switch to tf.summary.scalar. Note that tf.summary.scalar uses the node name instead of the tag. This means that TensorFlow will automatically de-duplicate summary names based on the scope they are created in. Also, passing a tensor or list of tags to a scalar summary op is no longer supported.\n"
     ]
    },
    {
     "name": "stderr",
     "output_type": "stream",
     "text": [
      "/Users/kristian/code/berkeley-cs294/homework1/.venv/lib/python3.6/site-packages/tensorflow/python/util/deprecation.py:248: FutureWarning: comparison to `None` will result in an elementwise object comparison in the future.\n",
      "  equality = a == b\n"
     ]
    },
    {
     "name": "stdout",
     "output_type": "stream",
     "text": [
      "INFO:tensorflow:Create CheckpointSaverHook.\n",
      "INFO:tensorflow:Saving checkpoints for 1 into ./checkpoints/DNNRegressor-20-20/model.ckpt.\n",
      "INFO:tensorflow:loss = 0.262501, step = 1\n",
      "INFO:tensorflow:global_step/sec: 12.277\n",
      "INFO:tensorflow:loss = 0.0773061, step = 101 (8.146 sec)\n",
      "INFO:tensorflow:global_step/sec: 12.2575\n",
      "INFO:tensorflow:loss = 0.0690636, step = 201 (8.159 sec)\n",
      "INFO:tensorflow:global_step/sec: 15.2339\n",
      "INFO:tensorflow:loss = 0.0684239, step = 301 (6.564 sec)\n",
      "INFO:tensorflow:global_step/sec: 14.6122\n",
      "INFO:tensorflow:loss = 0.0704684, step = 401 (6.844 sec)\n",
      "INFO:tensorflow:global_step/sec: 17.1918\n",
      "INFO:tensorflow:loss = 0.0730132, step = 501 (5.816 sec)\n",
      "INFO:tensorflow:global_step/sec: 15.4213\n",
      "INFO:tensorflow:loss = 0.0757087, step = 601 (6.484 sec)\n"
     ]
    }
   ],
   "source": [
    "NUM_EPOCHS = 20\n",
    "BATCH_SIZE = 256\n",
    "NUM_BATCHES = int(num_train/BATCH_SIZE)\n",
    "DISPLAY_EVERY = 10\n",
    "\n",
    "HIDDEN_SIZE = [20, 20]\n",
    "DROPOUT = 0.0\n",
    "\n",
    "features = infer_real_valued_columns_from_input(X_train)\n",
    "model_dir = \"./checkpoints/DNNRegressor-{}\".format(\n",
    "    \"-\".join(map(str, HIDDEN_SIZE)))\n",
    "\n",
    "model = tf.contrib.learn.DNNRegressor(\n",
    "    model_dir=model_dir,\n",
    "    feature_columns=features,\n",
    "    hidden_units=HIDDEN_SIZE,\n",
    "    label_dimension=D_out,\n",
    "    activation_fn=tf.nn.relu,\n",
    "    dropout=DROPOUT,\n",
    "    optimizer=tf.train.ProximalAdagradOptimizer(\n",
    "      learning_rate=1e-2,\n",
    "      l1_regularization_strength=0.01\n",
    "    )\n",
    ")\n",
    "\n",
    "model.fit(x=X_train, y=y_train)"
   ]
  }
 ],
 "metadata": {
  "kernelspec": {
   "display_name": "Python 3",
   "language": "python",
   "name": "python3"
  },
  "language_info": {
   "codemirror_mode": {
    "name": "ipython",
    "version": 3
   },
   "file_extension": ".py",
   "mimetype": "text/x-python",
   "name": "python",
   "nbconvert_exporter": "python",
   "pygments_lexer": "ipython3",
   "version": "3.6.1"
  }
 },
 "nbformat": 4,
 "nbformat_minor": 2
}
