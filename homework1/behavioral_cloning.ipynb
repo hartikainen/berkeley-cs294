{
 "cells": [
  {
   "cell_type": "code",
   "execution_count": 18,
   "metadata": {},
   "outputs": [
    {
     "name": "stdout",
     "output_type": "stream",
     "text": [
      "The autoreload extension is already loaded. To reload it, use:\n",
      "  %reload_ext autoreload\n"
     ]
    }
   ],
   "source": [
    "# Some boilerplate setup\n",
    "\n",
    "import time\n",
    "import pickle\n",
    "import numpy as np\n",
    "import tensorflow as tf\n",
    "import matplotlib.pyplot as plt\n",
    "from sklearn.model_selection import train_test_split\n",
    "\n",
    "%matplotlib inline\n",
    "%config InlineBackend.figure_format = 'retina'\n",
    "plt.rcParams['figure.figsize'] = (10.0, 8.0) # set default size of plots\n",
    "plt.rcParams['image.interpolation'] = 'nearest'\n",
    "plt.rcParams['image.cmap'] = 'gray'\n",
    "\n",
    "# for auto-reloading external modules\n",
    "# see http://stackoverflow.com/questions/1907993/autoreload-of-modules-in-ipython\n",
    "%load_ext autoreload\n",
    "%autoreload 2"
   ]
  },
  {
   "cell_type": "code",
   "execution_count": 19,
   "metadata": {
    "collapsed": true
   },
   "outputs": [],
   "source": [
    "# Available agents/environments:\n",
    "#  Ant-v1.pkl\n",
    "#  HalfCheetah-v1.pkl\n",
    "#  Hopper-v1.pkl\n",
    "#  Humanoid-v1.pkl\n",
    "#  Reacher-v1.pkl\n",
    "#  Walker2d-v1.pkl\n",
    "\n",
    "ENV_NAME = \"Ant-v1\""
   ]
  },
  {
   "cell_type": "markdown",
   "metadata": {},
   "source": [
    "## Expert data loading"
   ]
  },
  {
   "cell_type": "code",
   "execution_count": 20,
   "metadata": {},
   "outputs": [
    {
     "name": "stdout",
     "output_type": "stream",
     "text": [
      "observations shape:  (20000, 111)\n",
      "actions shape:  (20000, 1, 8)\n"
     ]
    }
   ],
   "source": [
    "# Load the expert data from pickle saved in 'homework1/expert_data'\n",
    "expert_data = None\n",
    "with open(\"./expert_data/{}.pkl\".format(ENV_NAME), \"rb\") as f:\n",
    "    expert_data = pickle.load(f)\n",
    "\n",
    "observations, actions = expert_data[\"observations\"], expert_data[\"actions\"]\n",
    "\n",
    "# As a sanity check, print out the size of the training and test data.\n",
    "print('observations shape: ', observations.shape)\n",
    "print('actions shape: ', actions.shape)"
   ]
  },
  {
   "cell_type": "markdown",
   "metadata": {},
   "source": [
    "## Train, validation, test split"
   ]
  },
  {
   "cell_type": "code",
   "execution_count": 28,
   "metadata": {},
   "outputs": [
    {
     "name": "stdout",
     "output_type": "stream",
     "text": [
      "Train data shape:  (17000, 111)\n",
      "Train labels shape:  (17000, 1, 8)\n",
      "Validation data shape:  (2000, 111)\n",
      "Validation labels shape:  (2000, 1, 8)\n",
      "Test data shape:  (1000, 111)\n",
      "Test labels shape:  (1000, 1, 8)\n",
      "Dev data shape:  (500, 111)\n",
      "Dev labels shape:  (500, 1, 8)\n"
     ]
    }
   ],
   "source": [
    "# Split the data into train, val, and test sets. Also, create a\n",
    "# small dataset for development purposes.\n",
    "num_train = 17000\n",
    "num_val   = 2000\n",
    "num_test  = 1000\n",
    "num_dev   = 500\n",
    "\n",
    "# Split the data into test set and temporary set, which will be \n",
    "# split into training and validation sets\n",
    "X_tmp, X_test, y_tmp, y_test = train_test_split(observations,\n",
    "                                                actions,\n",
    "                                                test_size=1000)\n",
    "\n",
    "# Split X_tmp into training and validation\n",
    "X_train, X_val, y_train, y_val = train_test_split(X_tmp,\n",
    "                                                  y_tmp,\n",
    "                                                  train_size=num_train)\n",
    "\n",
    "# Create the development set, which is just a small subset of\n",
    "# the training set.\n",
    "mask = np.random.choice(num_train, num_dev, replace=False)\n",
    "X_dev = X_train[mask]\n",
    "y_dev = y_train[mask]\n",
    "\n",
    "print('Train data shape: ', X_train.shape)\n",
    "assert(X_train.shape[0] == num_train)\n",
    "\n",
    "print('Train labels shape: ', y_train.shape)\n",
    "assert(y_train.shape[0] == num_train)\n",
    "\n",
    "print('Validation data shape: ', X_val.shape)\n",
    "assert(X_val.shape[0] == num_val)\n",
    "print('Validation labels shape: ', y_val.shape)\n",
    "assert(y_val.shape[0] == num_val)\n",
    "\n",
    "print('Test data shape: ', X_test.shape)\n",
    "assert(X_test.shape[0] == num_test)\n",
    "print('Test labels shape: ', y_test.shape)\n",
    "assert(y_test.shape[0] == num_test)\n",
    "\n",
    "print('Dev data shape: ', X_dev.shape)\n",
    "assert(X_dev.shape[0] == num_dev)\n",
    "print('Dev labels shape: ', y_dev.shape)\n",
    "assert(y_dev.shape[0] == num_dev)"
   ]
  },
  {
   "cell_type": "code",
   "execution_count": null,
   "metadata": {
    "collapsed": true
   },
   "outputs": [],
   "source": []
  }
 ],
 "metadata": {
  "kernelspec": {
   "display_name": "Python 3",
   "language": "python",
   "name": "python3"
  }
 },
 "nbformat": 4,
 "nbformat_minor": 2
}
